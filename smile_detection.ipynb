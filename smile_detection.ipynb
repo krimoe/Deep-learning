{
  "nbformat": 4,
  "nbformat_minor": 0,
  "metadata": {
    "colab": {
      "name": "smile detection.ipynb",
      "provenance": [],
      "collapsed_sections": [],
      "include_colab_link": true
    },
    "kernelspec": {
      "name": "python3",
      "display_name": "Python 3"
    },
    "accelerator": "GPU",
    "gpuClass": "standard"
  },
  "cells": [
    {
      "cell_type": "markdown",
      "metadata": {
        "id": "view-in-github",
        "colab_type": "text"
      },
      "source": [
        "<a href=\"https://colab.research.google.com/github/krimoe/Deep-learning/blob/main/smile_detection.ipynb\" target=\"_parent\"><img src=\"https://colab.research.google.com/assets/colab-badge.svg\" alt=\"Open In Colab\"/></a>"
      ]
    },
    {
      "cell_type": "markdown",
      "metadata": {
        "id": "2th5H5b1hbcS"
      },
      "source": [
        "# If you happy and I know it you can enter my House \n",
        "\n",
        "You'll see how you can in a couple of hours build a deep learning algorithm."
      ]
    },
    {
      "cell_type": "code",
      "metadata": {
        "id": "MuU-RPhvflcW"
      },
      "source": [
        "import numpy as np\n",
        "from sklearn.metrics import confusion_matrix\n",
        "import seaborn as sns\n",
        "import h5py\n",
        "from keras import layers\n",
        "from keras.layers import Input, Dense, Activation, ZeroPadding2D, BatchNormalization, Flatten, Conv2D\n",
        "from keras.layers import AveragePooling2D, MaxPooling2D, Dropout, GlobalMaxPooling2D, GlobalAveragePooling2D\n",
        "from keras.models import Model\n",
        "from keras.preprocessing import image\n",
        "from keras.utils import layer_utils\n",
        "from keras.utils.data_utils import get_file\n",
        "from keras.applications.imagenet_utils import preprocess_input\n",
        "from keras.models import Sequential\n",
        "\n",
        "import pydot\n",
        "from IPython.display import SVG\n",
        "\n",
        "\n",
        "import keras.backend as K\n",
        "K.set_image_data_format('channels_last')\n",
        "import matplotlib.pyplot as plt\n",
        "from matplotlib.pyplot import imshow\n"
      ],
      "execution_count": null,
      "outputs": []
    },
    {
      "cell_type": "code",
      "metadata": {
        "id": "4Z7gBX7YfTRL"
      },
      "source": [
        "def load_dataset():\n",
        "    train_dataset = h5py.File('/content/train_happy.h5','r')\n",
        "    train_x = np.array(train_dataset['train_set_x'][:])\n",
        "    train_y = np.array(train_dataset['train_set_y'][:])\n",
        "\n",
        "    test_dataset = h5py.File('/content/test_happy.h5','r')\n",
        "    test_x = np.array(test_dataset['test_set_x'][:])\n",
        "    test_y = np.array(test_dataset['test_set_y'][:])\n",
        "\n",
        "    # y reshaped\n",
        "    train_y = train_y.reshape((1, train_x.shape[0]))\n",
        "    test_y = test_y.reshape((1, test_y.shape[0]))\n",
        "\n",
        "    return train_x, train_y, test_x, test_y"
      ],
      "execution_count": null,
      "outputs": []
    },
    {
      "cell_type": "markdown",
      "metadata": {
        "id": "s0shUMnCg9GK"
      },
      "source": [
        "This dataset can be used to solve the Happy House problem.\n",
        "Where, we allow a person to enter the house only if he/she is smiling!\n",
        "So, a smile detector!\n"
      ]
    },
    {
      "cell_type": "markdown",
      "metadata": {
        "id": "LF7js4UdhO0F"
      },
      "source": [
        "![Texte alternatif…](https://raw.githubusercontent.com/Kulbear/deep-learning-coursera/master/Convolutional%20Neural%20Networks/images/house-members.png)"
      ]
    },
    {
      "cell_type": "markdown",
      "metadata": {
        "id": "roksQQtvizn4"
      },
      "source": [
        "\n",
        "\n",
        "Details of the \"Happy\" dataset:\n",
        "\n",
        "* Images are of shape (64,64,3)\n",
        "* Training: 600 pictures\n",
        "* Test: 150 pictures\n"
      ]
    },
    {
      "cell_type": "markdown",
      "metadata": {
        "id": "z9hCBeyJi--_"
      },
      "source": [
        "# Load Dataset"
      ]
    },
    {
      "cell_type": "code",
      "metadata": {
        "id": "nOZo0cNbg8ts",
        "outputId": "f9f6a15f-b516-4042-d038-464d77000ec4",
        "colab": {
          "base_uri": "https://localhost:8080/"
        }
      },
      "source": [
        "X_train_orig, Y_train_orig, X_test_orig, Y_test_orig = load_dataset()\n",
        "\n",
        "# Normalize image vectors\n",
        "X_train = X_train_orig/255.\n",
        "X_test = X_test_orig/255. #None\n",
        "\n",
        "# Reshape\n",
        "Y_train = Y_train_orig.T\n",
        "Y_test = Y_test_orig.T #None\n",
        "\n",
        "print (\"number of training examples = \" + str(X_train.shape[0]))\n",
        "print (\"number of test examples = \" + str(X_test.shape[0]))\n",
        "print (\"X_train shape: \" + str(X_train.shape))\n",
        "print (\"Y_train shape: \" + str(Y_train.shape))\n",
        "print (\"X_test shape: \" + str(X_test.shape))\n",
        "print (\"Y_test shape: \" + str(Y_test.shape))"
      ],
      "execution_count": null,
      "outputs": [
        {
          "output_type": "stream",
          "name": "stdout",
          "text": [
            "number of training examples = 600\n",
            "number of test examples = 150\n",
            "X_train shape: (600, 64, 64, 3)\n",
            "Y_train shape: (600, 1)\n",
            "X_test shape: (150, 64, 64, 3)\n",
            "Y_test shape: (150, 1)\n"
          ]
        }
      ]
    },
    {
      "cell_type": "code",
      "metadata": {
        "id": "RALj5hk4gMXB",
        "outputId": "0d4f5669-d239-4fa0-b395-fbb41f3ed23a",
        "colab": {
          "base_uri": "https://localhost:8080/",
          "height": 303
        }
      },
      "source": [
        "# Sample image from dataset\n",
        "print(\"Image shape :\",X_train_orig[10].shape)\n",
        "imshow(X_train_orig[10])"
      ],
      "execution_count": null,
      "outputs": [
        {
          "output_type": "stream",
          "name": "stdout",
          "text": [
            "Image shape : (64, 64, 3)\n"
          ]
        },
        {
          "output_type": "execute_result",
          "data": {
            "text/plain": [
              "<matplotlib.image.AxesImage at 0x7fa9366149d0>"
            ]
          },
          "metadata": {},
          "execution_count": 289
        },
        {
          "output_type": "display_data",
          "data": {
            "text/plain": [
              "<Figure size 432x288 with 1 Axes>"
            ],
            "image/png": "[encoded data removed]"
          },
          "metadata": {
            "needs_background": "light"
          }
        }
      ]
    },
    {
      "cell_type": "markdown",
      "metadata": {
        "id": "vQNZh4XxjCiB"
      },
      "source": [
        "# Building Model"
      ]
    },
    {
      "cell_type": "markdown",
      "metadata": {
        "id": "IJJpc1lppa_m"
      },
      "source": [
        "_________________________________________________________________\n",
        "\n",
        "conv2d_3 (Conv2D)            (None, 64, 64, 32)        4736      \n",
        "_________________________________________________________________\n",
        "batch_normalization_2 (Batch (None, 64, 64, 32)        128       \n",
        "_________________________________________________________________\n",
        "max_pooling2d_2 (MaxPooling2 (None, 32, 32, 32)        0         \n",
        "_________________________________________________________________\n",
        "flatten_2 (Flatten)          (None, 32768)             0         \n",
        "_________________________________________________________________\n",
        "dense_2 (Dense)              (None, 1)                 32769     \n",
        "_________________________________________________________________\n",
        "\n"
      ]
    },
    {
      "cell_type": "code",
      "metadata": {
        "id": "j1YT0k2rkvAM"
      },
      "source": [
        "from keras.models import Sequential\n",
        "from keras.layers import Conv2D, MaxPooling2D, Flatten, Dense, BatchNormalization\n",
        "\n",
        "def build_model():\n",
        "  model = Sequential([ \n",
        "  Conv2D(filters=32, kernel_size=(7,7), activation='relu', padding='same', name='conv2d_3',input_shape=X_train_orig[10].shape),\n",
        "  BatchNormalization(axis = 3, name = 'batch_normalization_2'),\n",
        "  MaxPooling2D(pool_size=(2,2), name='max_pooling2d_2'),\n",
        "  Flatten(name='flatten_2'),\n",
        "  #Dropout(0.2), #pour résoudre le overfitting   \n",
        "  Dense(1, activation='sigmoid', name='dense_2'), # pourquoi ici le nombre de noeuds est égale à 1, car ici on a utilisé sigmoid\n",
        "  ])\n",
        "  model.compile(optimizer='RMSprop', loss='binary_crossentropy', metrics=[\"accuracy\"])#optimizer=None\n",
        "  return model\n",
        "model = build_model()"
      ],
      "execution_count": null,
      "outputs": []
    },
    {
      "cell_type": "code",
      "metadata": {
        "id": "JJzOsVQnmsz0",
        "outputId": "c48faad4-e881-4c31-eddf-3315aed3c63c",
        "colab": {
          "base_uri": "https://localhost:8080/"
        }
      },
      "source": [
        "history_model = model.fit(x=X_train, y=Y_train, epochs=20, batch_size= 16)#fit(None)"
      ],
      "execution_count": null,
      "outputs": [
        {
          "output_type": "stream",
          "name": "stdout",
          "text": [
            "Epoch 1/20\n",
            "38/38 [==============================] - 1s 5ms/step - loss: 1.6449 - accuracy: 0.6400\n",
            "Epoch 2/20\n",
            "38/38 [==============================] - 0s 5ms/step - loss: 0.4489 - accuracy: 0.7933\n",
            "Epoch 3/20\n",
            "38/38 [==============================] - 0s 5ms/step - loss: 0.4648 - accuracy: 0.8733\n",
            "Epoch 4/20\n",
            "38/38 [==============================] - 0s 5ms/step - loss: 0.3776 - accuracy: 0.8867\n",
            "Epoch 5/20\n",
            "38/38 [==============================] - 0s 5ms/step - loss: 0.3941 - accuracy: 0.8800\n",
            "Epoch 6/20\n",
            "38/38 [==============================] - 0s 5ms/step - loss: 0.2777 - accuracy: 0.8900\n",
            "Epoch 7/20\n",
            "38/38 [==============================] - 0s 5ms/step - loss: 0.1992 - accuracy: 0.9283\n",
            "Epoch 8/20\n",
            "38/38 [==============================] - 0s 5ms/step - loss: 0.2184 - accuracy: 0.9167\n",
            "Epoch 9/20\n",
            "38/38 [==============================] - 0s 4ms/step - loss: 0.2543 - accuracy: 0.9200\n",
            "Epoch 10/20\n",
            "38/38 [==============================] - 0s 5ms/step - loss: 0.1674 - accuracy: 0.9567\n",
            "Epoch 11/20\n",
            "38/38 [==============================] - 0s 5ms/step - loss: 0.1446 - accuracy: 0.9550\n",
            "Epoch 12/20\n",
            "38/38 [==============================] - 0s 4ms/step - loss: 0.1420 - accuracy: 0.9583\n",
            "Epoch 13/20\n",
            "38/38 [==============================] - 0s 4ms/step - loss: 0.1556 - accuracy: 0.9550\n",
            "Epoch 14/20\n",
            "38/38 [==============================] - 0s 5ms/step - loss: 0.1635 - accuracy: 0.9433\n",
            "Epoch 15/20\n",
            "38/38 [==============================] - 0s 4ms/step - loss: 0.0696 - accuracy: 0.9767\n",
            "Epoch 16/20\n",
            "38/38 [==============================] - 0s 4ms/step - loss: 0.0748 - accuracy: 0.9700\n",
            "Epoch 17/20\n",
            "38/38 [==============================] - 0s 4ms/step - loss: 0.0854 - accuracy: 0.9717\n",
            "Epoch 18/20\n",
            "38/38 [==============================] - 0s 4ms/step - loss: 0.1087 - accuracy: 0.9650\n",
            "Epoch 19/20\n",
            "38/38 [==============================] - 0s 4ms/step - loss: 0.0541 - accuracy: 0.9817\n",
            "Epoch 20/20\n",
            "38/38 [==============================] - 0s 5ms/step - loss: 0.1404 - accuracy: 0.9583\n"
          ]
        }
      ]
    },
    {
      "cell_type": "code",
      "source": [
        "model.summary()"
      ],
      "metadata": {
        "colab": {
          "base_uri": "https://localhost:8080/"
        },
        "id": "nE6nHHTTETfx",
        "outputId": "88cdceff-7bf1-4c4b-ca62-b7f53df655ae"
      },
      "execution_count": null,
      "outputs": [
        {
          "output_type": "stream",
          "name": "stdout",
          "text": [
            "Model: \"sequential_15\"\n",
            "_________________________________________________________________\n",
            " Layer (type)                Output Shape              Param #   \n",
            "=================================================================\n",
            " conv2d_3 (Conv2D)           (None, 64, 64, 32)        4736      \n",
            "                                                                 \n",
            " batch_normalization_2 (Batc  (None, 64, 64, 32)       128       \n",
            " hNormalization)                                                 \n",
            "                                                                 \n",
            " max_pooling2d_2 (MaxPooling  (None, 32, 32, 32)       0         \n",
            " 2D)                                                             \n",
            "                                                                 \n",
            " flatten_2 (Flatten)         (None, 32768)             0         \n",
            "                                                                 \n",
            " dense_2 (Dense)             (None, 1)                 32769     \n",
            "                                                                 \n",
            "=================================================================\n",
            "Total params: 37,633\n",
            "Trainable params: 37,569\n",
            "Non-trainable params: 64\n",
            "_________________________________________________________________\n"
          ]
        }
      ]
    },
    {
      "cell_type": "markdown",
      "metadata": {
        "id": "MZFI90ydpx0n"
      },
      "source": [
        "# Evaluate / Test"
      ]
    },
    {
      "cell_type": "code",
      "metadata": {
        "id": "xV8Jav30myg0",
        "outputId": "a72ae362-73c1-4992-f10d-d26f665ac1c0",
        "colab": {
          "base_uri": "https://localhost:8080/",
          "height": 298
        }
      },
      "source": [
        "train_accuracy = history_model.history['accuracy']#history_model.history[None]\n",
        "train_loss = history_model.history['loss']#history_model.history[None]\n",
        "\n",
        "count = range(len(train_accuracy))\n",
        "plt.plot(count, train_accuracy, label='Training accuracy')\n",
        "plt.plot(count, train_loss, label='Training Loss')\n",
        "plt.title('epochs vs Training Loss')\n",
        "#plt.ylim(0.6,1)# pour limité l'intervalle des valeurs de l'axe des y\n",
        "plt.legend()"
      ],
      "execution_count": null,
      "outputs": [
        {
          "output_type": "execute_result",
          "data": {
            "text/plain": [
              "<matplotlib.legend.Legend at 0x7fa87beebb50>"
            ]
          },
          "metadata": {},
          "execution_count": 293
        },
        {
          "output_type": "display_data",
          "data": {
            "text/plain": [
              "<Figure size 432x288 with 1 Axes>"
            ],
            "image/png": "[encoded data removed]"
          },
          "metadata": {
            "needs_background": "light"
          }
        }
      ]
    },
    {
      "cell_type": "markdown",
      "metadata": {
        "id": "gBOEETB6qD3L"
      },
      "source": [
        "Evaluate Test set"
      ]
    },
    {
      "cell_type": "code",
      "metadata": {
        "id": "VNuzxr58m6bI",
        "colab": {
          "base_uri": "https://localhost:8080/"
        },
        "outputId": "eb227c88-2bd9-4ee2-c24d-346efa8bd560"
      },
      "source": [
        "# Code Here\n",
        "model.evaluate(X_test,Y_test)"
      ],
      "execution_count": null,
      "outputs": [
        {
          "output_type": "stream",
          "name": "stdout",
          "text": [
            "5/5 [==============================] - 0s 4ms/step - loss: 0.6464 - accuracy: 0.8067\n"
          ]
        },
        {
          "output_type": "execute_result",
          "data": {
            "text/plain": [
              "[0.6464246511459351, 0.8066666722297668]"
            ]
          },
          "metadata": {},
          "execution_count": 294
        }
      ]
    },
    {
      "cell_type": "markdown",
      "metadata": {
        "id": "hFC1nz5_p33b"
      },
      "source": [
        "Confusion Matrix"
      ]
    },
    {
      "cell_type": "code",
      "metadata": {
        "id": "iflIgFgnnIfv",
        "colab": {
          "base_uri": "https://localhost:8080/"
        },
        "outputId": "149ac072-5675-4dc9-9a4c-17d21bd034e8"
      },
      "source": [
        "# Code Here\n",
        "import pandas as pd\n",
        "Y_pred = model.predict(X_test)\n",
        "Y_pred.shape"
      ],
      "execution_count": null,
      "outputs": [
        {
          "output_type": "execute_result",
          "data": {
            "text/plain": [
              "(150, 1)"
            ]
          },
          "metadata": {},
          "execution_count": 295
        }
      ]
    },
    {
      "cell_type": "code",
      "source": [
        "Y_test.shape"
      ],
      "metadata": {
        "colab": {
          "base_uri": "https://localhost:8080/"
        },
        "id": "k7_g2bq9j6VZ",
        "outputId": "f433adde-1f4b-4cb5-ecdd-ad84320f8fa2"
      },
      "execution_count": null,
      "outputs": [
        {
          "output_type": "execute_result",
          "data": {
            "text/plain": [
              "(150, 1)"
            ]
          },
          "metadata": {},
          "execution_count": 296
        }
      ]
    },
    {
      "cell_type": "code",
      "source": [
        "from sklearn.preprocessing import Binarizer\n",
        "binarizer=Binarizer(threshold=0.5)\n",
        "b=binarizer.fit_transform(Y_pred)\n",
        "Y_pred=b"
      ],
      "metadata": {
        "id": "JndCPABImQ4N"
      },
      "execution_count": null,
      "outputs": []
    },
    {
      "cell_type": "code",
      "source": [
        "#Y_pred=[1 if x>=0.5 else 0 for x in Y_pred]#autre méthode que la binarization, elle est interessante pour multiclasse"
      ],
      "metadata": {
        "id": "x96Soj1apuiR"
      },
      "execution_count": null,
      "outputs": []
    },
    {
      "cell_type": "code",
      "source": [
        "from sklearn.metrics import f1_score\n",
        "cm=confusion_matrix(Y_test, Y_pred)\n",
        "cm\n",
        "#sns.heatmap(cm)"
      ],
      "metadata": {
        "colab": {
          "base_uri": "https://localhost:8080/"
        },
        "id": "A-8P7_FRjwaF",
        "outputId": "30158539-70a3-401f-b5c0-e50544580e4a"
      },
      "execution_count": null,
      "outputs": [
        {
          "output_type": "execute_result",
          "data": {
            "text/plain": [
              "array([[66,  0],\n",
              "       [29, 55]])"
            ]
          },
          "metadata": {},
          "execution_count": 299
        }
      ]
    },
    {
      "cell_type": "code",
      "source": [
        "score1=f1_score(Y_test, Y_pred)# la précision\n",
        "score1"
      ],
      "metadata": {
        "colab": {
          "base_uri": "https://localhost:8080/"
        },
        "id": "FK3dOp36rNTr",
        "outputId": "f19dfec5-3da5-4f41-e2ed-0830388c5dd9"
      },
      "execution_count": null,
      "outputs": [
        {
          "output_type": "execute_result",
          "data": {
            "text/plain": [
              "0.7913669064748202"
            ]
          },
          "metadata": {},
          "execution_count": 300
        }
      ]
    },
    {
      "cell_type": "markdown",
      "source": [
        "**-------------------------------------------------------------comparing different optimizers---------------------------------------------------------**"
      ],
      "metadata": {
        "id": "aOVZgvjN1hfZ"
      }
    },
    {
      "cell_type": "markdown",
      "source": [
        "**with adam optimizer :**"
      ],
      "metadata": {
        "id": "7W_OYwMtBz1o"
      }
    },
    {
      "cell_type": "code",
      "source": [
        "def build_model():\n",
        "  model2 = Sequential([ \n",
        "  Conv2D(filters=32, kernel_size=(7,7), activation='relu', padding='same', name='conv2d_3',input_shape=X_train_orig[10].shape),\n",
        "  BatchNormalization(axis = 3, name = 'batch_normalization_2'),\n",
        "  MaxPooling2D(pool_size=(2,2), name='max_pooling2d_2'),\n",
        "  Flatten(name='flatten_2'),\n",
        "  #Dropout(0.2), #pour résoudre le overfitting   \n",
        "  Dense(1, activation='sigmoid', name='dense_2'), # pourquoi ici le nombre de noeuds est égale à 1, car ici on a utilisé sigmoid\n",
        "  ])\n",
        "  model2.compile(optimizer='adam', loss='binary_crossentropy', metrics=[\"accuracy\"])#optimizer=None\n",
        "  return model2\n",
        "model2 = build_model()"
      ],
      "metadata": {
        "id": "JPzJGMns65tU"
      },
      "execution_count": null,
      "outputs": []
    },
    {
      "cell_type": "code",
      "source": [
        "history_model = model2.fit(x=X_train, y=Y_train, epochs=20, batch_size= 16)#fit(None)"
      ],
      "metadata": {
        "colab": {
          "base_uri": "https://localhost:8080/"
        },
        "id": "c3TzrDyZ7D-P",
        "outputId": "027b03c3-1e0a-4a11-8195-85681f9ee8bf"
      },
      "execution_count": null,
      "outputs": [
        {
          "output_type": "stream",
          "name": "stdout",
          "text": [
            "Epoch 1/20\n",
            "38/38 [==============================] - 1s 5ms/step - loss: 0.7736 - accuracy: 0.6750\n",
            "Epoch 2/20\n",
            "38/38 [==============================] - 0s 5ms/step - loss: 0.2355 - accuracy: 0.9167\n",
            "Epoch 3/20\n",
            "38/38 [==============================] - 0s 5ms/step - loss: 0.1918 - accuracy: 0.9333\n",
            "Epoch 4/20\n",
            "38/38 [==============================] - 0s 5ms/step - loss: 0.1227 - accuracy: 0.9500\n",
            "Epoch 5/20\n",
            "38/38 [==============================] - 0s 5ms/step - loss: 0.0899 - accuracy: 0.9717\n",
            "Epoch 6/20\n",
            "38/38 [==============================] - 0s 5ms/step - loss: 0.1135 - accuracy: 0.9450\n",
            "Epoch 7/20\n",
            "38/38 [==============================] - 0s 5ms/step - loss: 0.1290 - accuracy: 0.9533\n",
            "Epoch 8/20\n",
            "38/38 [==============================] - 0s 5ms/step - loss: 0.0586 - accuracy: 0.9850\n",
            "Epoch 9/20\n",
            "38/38 [==============================] - 0s 5ms/step - loss: 0.0471 - accuracy: 0.9867\n",
            "Epoch 10/20\n",
            "38/38 [==============================] - 0s 5ms/step - loss: 0.0512 - accuracy: 0.9817\n",
            "Epoch 11/20\n",
            "38/38 [==============================] - 0s 4ms/step - loss: 0.0568 - accuracy: 0.9817\n",
            "Epoch 12/20\n",
            "38/38 [==============================] - 0s 4ms/step - loss: 0.0393 - accuracy: 0.9883\n",
            "Epoch 13/20\n",
            "38/38 [==============================] - 0s 5ms/step - loss: 0.0391 - accuracy: 0.9900\n",
            "Epoch 14/20\n",
            "38/38 [==============================] - 0s 5ms/step - loss: 0.0451 - accuracy: 0.9833\n",
            "Epoch 15/20\n",
            "38/38 [==============================] - 0s 4ms/step - loss: 0.0331 - accuracy: 0.9883\n",
            "Epoch 16/20\n",
            "38/38 [==============================] - 0s 4ms/step - loss: 0.0240 - accuracy: 0.9950\n",
            "Epoch 17/20\n",
            "38/38 [==============================] - 0s 4ms/step - loss: 0.0231 - accuracy: 0.9950\n",
            "Epoch 18/20\n",
            "38/38 [==============================] - 0s 4ms/step - loss: 0.0167 - accuracy: 0.9967\n",
            "Epoch 19/20\n",
            "38/38 [==============================] - 0s 5ms/step - loss: 0.0216 - accuracy: 0.9967\n",
            "Epoch 20/20\n",
            "38/38 [==============================] - 0s 4ms/step - loss: 0.0354 - accuracy: 0.9850\n"
          ]
        }
      ]
    },
    {
      "cell_type": "code",
      "source": [
        "train_accuracy = history_model.history['accuracy']#history_model.history[None]\n",
        "train_loss = history_model.history['loss']#history_model.history[None]\n",
        "\n",
        "count = range(len(train_accuracy))\n",
        "plt.plot(count, train_accuracy, label='Training accuracy')\n",
        "plt.plot(count, train_loss, label='Training Loss')\n",
        "plt.title('epochs vs Training Loss')\n",
        "#plt.ylim(0.6,1)# pour limité l'intervalle des valeurs de l'axe des y\n",
        "plt.legend()"
      ],
      "metadata": {
        "colab": {
          "base_uri": "https://localhost:8080/",
          "height": 298
        },
        "id": "dW2BmEr-7U9Q",
        "outputId": "96178f51-e6f1-49e0-faa0-125051d366b3"
      },
      "execution_count": null,
      "outputs": [
        {
          "output_type": "execute_result",
          "data": {
            "text/plain": [
              "<matplotlib.legend.Legend at 0x7fa9360e9c10>"
            ]
          },
          "metadata": {},
          "execution_count": 304
        },
        {
          "output_type": "display_data",
          "data": {
            "text/plain": [
              "<Figure size 432x288 with 1 Axes>"
            ],
            "image/png": "[encoded data removed]"
          },
          "metadata": {
            "needs_background": "light"
          }
        }
      ]
    },
    {
      "cell_type": "code",
      "source": [
        "model2.evaluate(X_test,Y_test)"
      ],
      "metadata": {
        "colab": {
          "base_uri": "https://localhost:8080/"
        },
        "id": "6IvR3gxh_wfZ",
        "outputId": "6aba759e-5a3f-4ec0-dade-85eab48befff"
      },
      "execution_count": null,
      "outputs": [
        {
          "output_type": "stream",
          "name": "stdout",
          "text": [
            "5/5 [==============================] - 0s 4ms/step - loss: 0.1002 - accuracy: 0.9667\n"
          ]
        },
        {
          "output_type": "execute_result",
          "data": {
            "text/plain": [
              "[0.10024549812078476, 0.9666666388511658]"
            ]
          },
          "metadata": {},
          "execution_count": 305
        }
      ]
    },
    {
      "cell_type": "code",
      "source": [
        "import pandas as pd\n",
        "Y_pred2 = model2.predict(X_test)\n",
        "Y_pred2.shape"
      ],
      "metadata": {
        "colab": {
          "base_uri": "https://localhost:8080/"
        },
        "id": "HR_kDSICxi_Z",
        "outputId": "ce9f4cfe-8be7-4518-8415-61352b8549c0"
      },
      "execution_count": null,
      "outputs": [
        {
          "output_type": "execute_result",
          "data": {
            "text/plain": [
              "(150, 1)"
            ]
          },
          "metadata": {},
          "execution_count": 306
        }
      ]
    },
    {
      "cell_type": "code",
      "source": [
        "from sklearn.preprocessing import Binarizer\n",
        "binarizer=Binarizer(threshold=0.5)\n",
        "b2=binarizer.fit_transform(Y_pred2)\n",
        "Y_pred2=b2"
      ],
      "metadata": {
        "id": "qWp1FXuUxtSt"
      },
      "execution_count": null,
      "outputs": []
    },
    {
      "cell_type": "code",
      "source": [
        "from sklearn.metrics import f1_score\n",
        "cm2=confusion_matrix(Y_test, Y_pred2)\n",
        "cm2\n",
        "#sns.heatmap(cm)"
      ],
      "metadata": {
        "colab": {
          "base_uri": "https://localhost:8080/"
        },
        "id": "PM5-EkD1so4n",
        "outputId": "80d65806-0967-42e0-db2d-7fcf336100c2"
      },
      "execution_count": null,
      "outputs": [
        {
          "output_type": "execute_result",
          "data": {
            "text/plain": [
              "array([[64,  2],\n",
              "       [ 3, 81]])"
            ]
          },
          "metadata": {},
          "execution_count": 308
        }
      ]
    },
    {
      "cell_type": "code",
      "source": [
        "score2=f1_score(Y_test, Y_pred2)# la précision\n",
        "score2"
      ],
      "metadata": {
        "colab": {
          "base_uri": "https://localhost:8080/"
        },
        "id": "-jujJpGmstWe",
        "outputId": "db5db50c-5d5f-4111-ddc4-9b9d208b0876"
      },
      "execution_count": null,
      "outputs": [
        {
          "output_type": "execute_result",
          "data": {
            "text/plain": [
              "0.970059880239521"
            ]
          },
          "metadata": {},
          "execution_count": 309
        }
      ]
    },
    {
      "cell_type": "markdown",
      "source": [
        "** with adagrad optimizer :**"
      ],
      "metadata": {
        "id": "nDE8dxJjCaSO"
      }
    },
    {
      "cell_type": "code",
      "source": [
        "def build_model():\n",
        "  model3 = Sequential([ \n",
        "  Conv2D(filters=32, kernel_size=(7,7), activation='relu', padding='same', name='conv2d_3',input_shape=X_train_orig[10].shape),\n",
        "  BatchNormalization(axis = 3, name = 'batch_normalization_2'),\n",
        "  MaxPooling2D(pool_size=(2,2), name='max_pooling2d_2'),\n",
        "  Flatten(name='flatten_2'),\n",
        "  #Dropout(0.2), #pour résoudre le overfitting   \n",
        "  Dense(1, activation='sigmoid', name='dense_2'), # pourquoi ici le nombre de noeuds est égale à 1, car ici on a utilisé sigmoid\n",
        "  ])\n",
        "  model3.compile(optimizer='adagrad', loss='binary_crossentropy', metrics=[\"accuracy\"],run_eagerly=True)#optimizer=None\n",
        "  return model3\n",
        "model3 = build_model()"
      ],
      "metadata": {
        "id": "ZFQ_hPAtCggj"
      },
      "execution_count": null,
      "outputs": []
    },
    {
      "cell_type": "code",
      "source": [
        "history_model = model3.fit(x=X_train, y=Y_train, epochs=20, batch_size= 16)#fit(None)"
      ],
      "metadata": {
        "colab": {
          "base_uri": "https://localhost:8080/"
        },
        "id": "oXXLnG6xqYC0",
        "outputId": "8e2340e9-6b9f-4195-d549-d67240b242e1"
      },
      "execution_count": null,
      "outputs": [
        {
          "output_type": "stream",
          "name": "stdout",
          "text": [
            "Epoch 1/20\n",
            "38/38 [==============================] - 1s 16ms/step - loss: 0.7558 - accuracy: 0.7067\n",
            "Epoch 2/20\n",
            "38/38 [==============================] - 1s 16ms/step - loss: 0.2556 - accuracy: 0.9117\n",
            "Epoch 3/20\n",
            "38/38 [==============================] - 1s 16ms/step - loss: 0.2022 - accuracy: 0.9417\n",
            "Epoch 4/20\n",
            "38/38 [==============================] - 1s 16ms/step - loss: 0.1597 - accuracy: 0.9617\n",
            "Epoch 5/20\n",
            "38/38 [==============================] - 1s 16ms/step - loss: 0.1432 - accuracy: 0.9617\n",
            "Epoch 6/20\n",
            "38/38 [==============================] - 1s 16ms/step - loss: 0.1259 - accuracy: 0.9717\n",
            "Epoch 7/20\n",
            "38/38 [==============================] - 1s 15ms/step - loss: 0.1084 - accuracy: 0.9750\n",
            "Epoch 8/20\n",
            "38/38 [==============================] - 1s 16ms/step - loss: 0.1025 - accuracy: 0.9750\n",
            "Epoch 9/20\n",
            "38/38 [==============================] - 1s 15ms/step - loss: 0.0959 - accuracy: 0.9783\n",
            "Epoch 10/20\n",
            "38/38 [==============================] - 1s 15ms/step - loss: 0.0885 - accuracy: 0.9817\n",
            "Epoch 11/20\n",
            "38/38 [==============================] - 1s 15ms/step - loss: 0.0819 - accuracy: 0.9850\n",
            "Epoch 12/20\n",
            "38/38 [==============================] - 1s 15ms/step - loss: 0.0745 - accuracy: 0.9883\n",
            "Epoch 13/20\n",
            "38/38 [==============================] - 1s 15ms/step - loss: 0.0745 - accuracy: 0.9867\n",
            "Epoch 14/20\n",
            "38/38 [==============================] - 1s 16ms/step - loss: 0.0670 - accuracy: 0.9833\n",
            "Epoch 15/20\n",
            "38/38 [==============================] - 1s 16ms/step - loss: 0.0644 - accuracy: 0.9883\n",
            "Epoch 16/20\n",
            "38/38 [==============================] - 1s 16ms/step - loss: 0.0607 - accuracy: 0.9917\n",
            "Epoch 17/20\n",
            "38/38 [==============================] - 1s 16ms/step - loss: 0.0593 - accuracy: 0.9900\n",
            "Epoch 18/20\n",
            "38/38 [==============================] - 1s 16ms/step - loss: 0.0558 - accuracy: 0.9917\n",
            "Epoch 19/20\n",
            "38/38 [==============================] - 1s 15ms/step - loss: 0.0541 - accuracy: 0.9933\n",
            "Epoch 20/20\n",
            "38/38 [==============================] - 1s 16ms/step - loss: 0.0514 - accuracy: 0.9933\n"
          ]
        }
      ]
    },
    {
      "cell_type": "code",
      "source": [
        "train_accuracy = history_model.history['accuracy']#history_model.history[None]\n",
        "train_loss = history_model.history['loss']#history_model.history[None]\n",
        "\n",
        "count = range(len(train_accuracy))\n",
        "plt.plot(count, train_accuracy, label='Training accuracy')\n",
        "plt.plot(count, train_loss, label='Training Loss')\n",
        "plt.title('epochs vs Training Loss')\n",
        "#plt.ylim(0.6,1)# pour limité l'intervalle des valeurs de l'axe des y\n",
        "plt.legend()"
      ],
      "metadata": {
        "colab": {
          "base_uri": "https://localhost:8080/",
          "height": 298
        },
        "id": "C3LUO57bqfmk",
        "outputId": "131f4482-662a-4d44-d8b5-47e9a53b4867"
      },
      "execution_count": null,
      "outputs": [
        {
          "output_type": "execute_result",
          "data": {
            "text/plain": [
              "<matplotlib.legend.Legend at 0x7fa84ef6ac50>"
            ]
          },
          "metadata": {},
          "execution_count": 312
        },
        {
          "output_type": "display_data",
          "data": {
            "text/plain": [
              "<Figure size 432x288 with 1 Axes>"
            ],
            "image/png": "[encoded data removed]"
          },
          "metadata": {
            "needs_background": "light"
          }
        }
      ]
    },
    {
      "cell_type": "code",
      "source": [
        "model3.evaluate(X_test,Y_test)"
      ],
      "metadata": {
        "colab": {
          "base_uri": "https://localhost:8080/"
        },
        "id": "I8Z4Cp6-sy4k",
        "outputId": "8782f57a-c20f-4097-cde7-243ff8784d66"
      },
      "execution_count": null,
      "outputs": [
        {
          "output_type": "stream",
          "name": "stdout",
          "text": [
            "5/5 [==============================] - 0s 11ms/step - loss: 0.1242 - accuracy: 0.9600\n"
          ]
        },
        {
          "output_type": "execute_result",
          "data": {
            "text/plain": [
              "[0.12416262179613113, 0.9599999785423279]"
            ]
          },
          "metadata": {},
          "execution_count": 313
        }
      ]
    },
    {
      "cell_type": "code",
      "source": [
        "import pandas as pd\n",
        "Y_pred3 = model3.predict(X_test)\n",
        "Y_pred3.shape"
      ],
      "metadata": {
        "colab": {
          "base_uri": "https://localhost:8080/"
        },
        "id": "Olz5WLrpyCuM",
        "outputId": "3b2483dc-8164-4f00-e14f-f34822d39fa0"
      },
      "execution_count": null,
      "outputs": [
        {
          "output_type": "execute_result",
          "data": {
            "text/plain": [
              "(150, 1)"
            ]
          },
          "metadata": {},
          "execution_count": 314
        }
      ]
    },
    {
      "cell_type": "code",
      "source": [
        "from sklearn.preprocessing import Binarizer\n",
        "binarizer=Binarizer(threshold=0.5)\n",
        "b3=binarizer.fit_transform(Y_pred3)\n",
        "Y_pred3=b3"
      ],
      "metadata": {
        "id": "6NMgB-aTyOg3"
      },
      "execution_count": null,
      "outputs": []
    },
    {
      "cell_type": "code",
      "source": [
        "from sklearn.metrics import f1_score\n",
        "cm3=confusion_matrix(Y_test, Y_pred3)\n",
        "cm3\n",
        "#sns.heatmap(cm)"
      ],
      "metadata": {
        "colab": {
          "base_uri": "https://localhost:8080/"
        },
        "id": "6dznBt-Gs3GA",
        "outputId": "e4ad4adc-a53f-4420-935b-edeac93f5f10"
      },
      "execution_count": null,
      "outputs": [
        {
          "output_type": "execute_result",
          "data": {
            "text/plain": [
              "array([[64,  2],\n",
              "       [ 4, 80]])"
            ]
          },
          "metadata": {},
          "execution_count": 316
        }
      ]
    },
    {
      "cell_type": "code",
      "source": [
        "score3=f1_score(Y_test, Y_pred3)# la précision\n",
        "score3"
      ],
      "metadata": {
        "colab": {
          "base_uri": "https://localhost:8080/"
        },
        "id": "c11UAQTns6yx",
        "outputId": "e0f33408-38a7-4fe3-ddca-d2eb08ed603e"
      },
      "execution_count": null,
      "outputs": [
        {
          "output_type": "execute_result",
          "data": {
            "text/plain": [
              "0.963855421686747"
            ]
          },
          "metadata": {},
          "execution_count": 317
        }
      ]
    },
    {
      "cell_type": "markdown",
      "source": [
        "** with SGD optimizer :**"
      ],
      "metadata": {
        "id": "dhVjnSbTrAlT"
      }
    },
    {
      "cell_type": "code",
      "source": [
        "def build_model():\n",
        "  model4 = Sequential([ \n",
        "  Conv2D(filters=32, kernel_size=(7,7), activation='relu', padding='same', name='conv2d_3',input_shape=X_train_orig[10].shape),\n",
        "  BatchNormalization(axis = 3, name = 'batch_normalization_2'),\n",
        "  MaxPooling2D(pool_size=(2,2), name='max_pooling2d_2'),\n",
        "  Flatten(name='flatten_2'),\n",
        "  #Dropout(0.2), #pour résoudre le overfitting   \n",
        "  Dense(1, activation='sigmoid', name='dense_2'), # pourquoi ici le nombre de noeuds est égale à 1, car ici on a utilisé sigmoid\n",
        "  ])\n",
        "  model4.compile(optimizer='SGD', loss='binary_crossentropy', metrics=[\"accuracy\"])#optimizer=None\n",
        "  return model4\n",
        "model4 = build_model()"
      ],
      "metadata": {
        "id": "LuhDHmo4rH7y"
      },
      "execution_count": null,
      "outputs": []
    },
    {
      "cell_type": "code",
      "source": [
        "history_model = model4.fit(x=X_train, y=Y_train, epochs=20, batch_size= 16)#fit(None)"
      ],
      "metadata": {
        "colab": {
          "base_uri": "https://localhost:8080/"
        },
        "id": "l45HcSwQrW0q",
        "outputId": "a3af9441-f8fe-4224-80dc-2336211a4c4c"
      },
      "execution_count": null,
      "outputs": [
        {
          "output_type": "stream",
          "name": "stdout",
          "text": [
            "Epoch 1/20\n",
            "38/38 [==============================] - 1s 5ms/step - loss: 5.4332 - accuracy: 0.5533\n",
            "Epoch 2/20\n",
            "38/38 [==============================] - 0s 5ms/step - loss: 0.8626 - accuracy: 0.6983\n",
            "Epoch 3/20\n",
            "38/38 [==============================] - 0s 5ms/step - loss: 0.4859 - accuracy: 0.7983\n",
            "Epoch 4/20\n",
            "38/38 [==============================] - 0s 5ms/step - loss: 0.3809 - accuracy: 0.8250\n",
            "Epoch 5/20\n",
            "38/38 [==============================] - 0s 5ms/step - loss: 0.2453 - accuracy: 0.9000\n",
            "Epoch 6/20\n",
            "38/38 [==============================] - 0s 5ms/step - loss: 0.2380 - accuracy: 0.9100\n",
            "Epoch 7/20\n",
            "38/38 [==============================] - 0s 5ms/step - loss: 0.1809 - accuracy: 0.9350\n",
            "Epoch 8/20\n",
            "38/38 [==============================] - 0s 5ms/step - loss: 0.1282 - accuracy: 0.9500\n",
            "Epoch 9/20\n",
            "38/38 [==============================] - 0s 5ms/step - loss: 0.1101 - accuracy: 0.9667\n",
            "Epoch 10/20\n",
            "38/38 [==============================] - 0s 5ms/step - loss: 0.1047 - accuracy: 0.9717\n",
            "Epoch 11/20\n",
            "38/38 [==============================] - 0s 5ms/step - loss: 0.0973 - accuracy: 0.9683\n",
            "Epoch 12/20\n",
            "38/38 [==============================] - 0s 4ms/step - loss: 0.0801 - accuracy: 0.9783\n",
            "Epoch 13/20\n",
            "38/38 [==============================] - 0s 4ms/step - loss: 0.0680 - accuracy: 0.9850\n",
            "Epoch 14/20\n",
            "38/38 [==============================] - 0s 4ms/step - loss: 0.0659 - accuracy: 0.9850\n",
            "Epoch 15/20\n",
            "38/38 [==============================] - 0s 4ms/step - loss: 0.0681 - accuracy: 0.9817\n",
            "Epoch 16/20\n",
            "38/38 [==============================] - 0s 5ms/step - loss: 0.0665 - accuracy: 0.9850\n",
            "Epoch 17/20\n",
            "38/38 [==============================] - 0s 5ms/step - loss: 0.0623 - accuracy: 0.9900\n",
            "Epoch 18/20\n",
            "38/38 [==============================] - 0s 4ms/step - loss: 0.0513 - accuracy: 0.9917\n",
            "Epoch 19/20\n",
            "38/38 [==============================] - 0s 4ms/step - loss: 0.0492 - accuracy: 0.9917\n",
            "Epoch 20/20\n",
            "38/38 [==============================] - 0s 4ms/step - loss: 0.0497 - accuracy: 0.9833\n"
          ]
        }
      ]
    },
    {
      "cell_type": "code",
      "source": [
        "train_accuracy = history_model.history['accuracy']#history_model.history[None]\n",
        "train_loss = history_model.history['loss']#history_model.history[None]\n",
        "\n",
        "count = range(len(train_accuracy))\n",
        "plt.plot(count, train_accuracy, label='Training accuracy')\n",
        "plt.plot(count, train_loss, label='Training Loss')\n",
        "plt.title('epochs vs Training Loss')\n",
        "#plt.ylim(0.6,1)# pour limité l'intervalle des valeurs de l'axe des y\n",
        "plt.legend()"
      ],
      "metadata": {
        "colab": {
          "base_uri": "https://localhost:8080/",
          "height": 298
        },
        "id": "0mxbXhperc5c",
        "outputId": "7190ab99-9f7a-42e4-b1d4-9bee265b24da"
      },
      "execution_count": null,
      "outputs": [
        {
          "output_type": "execute_result",
          "data": {
            "text/plain": [
              "<matplotlib.legend.Legend at 0x7fa87d9c0fd0>"
            ]
          },
          "metadata": {},
          "execution_count": 320
        },
        {
          "output_type": "display_data",
          "data": {
            "text/plain": [
              "<Figure size 432x288 with 1 Axes>"
            ],
            "image/png": "[encoded data removed]"
          },
          "metadata": {
            "needs_background": "light"
          }
        }
      ]
    },
    {
      "cell_type": "code",
      "source": [
        "model4.evaluate(X_test,Y_test)"
      ],
      "metadata": {
        "colab": {
          "base_uri": "https://localhost:8080/"
        },
        "id": "lQJM372AtFA-",
        "outputId": "0e2c2fc4-d2d0-4199-f255-d5c60be8e320"
      },
      "execution_count": null,
      "outputs": [
        {
          "output_type": "stream",
          "name": "stdout",
          "text": [
            "5/5 [==============================] - 0s 5ms/step - loss: 0.1023 - accuracy: 0.9667\n"
          ]
        },
        {
          "output_type": "execute_result",
          "data": {
            "text/plain": [
              "[0.10234440118074417, 0.9666666388511658]"
            ]
          },
          "metadata": {},
          "execution_count": 321
        }
      ]
    },
    {
      "cell_type": "code",
      "source": [
        "import pandas as pd\n",
        "Y_pred4 = model4.predict(X_test)\n",
        "Y_pred4.shape"
      ],
      "metadata": {
        "colab": {
          "base_uri": "https://localhost:8080/"
        },
        "id": "ro1-xszwyrA6",
        "outputId": "d996f1f2-acba-4c34-ffa6-4bc6372a599d"
      },
      "execution_count": null,
      "outputs": [
        {
          "output_type": "execute_result",
          "data": {
            "text/plain": [
              "(150, 1)"
            ]
          },
          "metadata": {},
          "execution_count": 322
        }
      ]
    },
    {
      "cell_type": "code",
      "source": [
        "from sklearn.preprocessing import Binarizer\n",
        "binarizer=Binarizer(threshold=0.5)\n",
        "b4=binarizer.fit_transform(Y_pred4)\n",
        "Y_pred4=b4"
      ],
      "metadata": {
        "id": "_fY7kKeDy2vp"
      },
      "execution_count": null,
      "outputs": []
    },
    {
      "cell_type": "code",
      "source": [
        "from sklearn.metrics import f1_score\n",
        "cm4=confusion_matrix(Y_test, Y_pred4)\n",
        "cm4\n",
        "#sns.heatmap(cm)"
      ],
      "metadata": {
        "colab": {
          "base_uri": "https://localhost:8080/"
        },
        "id": "ZdhfE-iGtF3P",
        "outputId": "ae9eb560-d65f-4095-937d-efa535bace5b"
      },
      "execution_count": null,
      "outputs": [
        {
          "output_type": "execute_result",
          "data": {
            "text/plain": [
              "array([[63,  3],\n",
              "       [ 2, 82]])"
            ]
          },
          "metadata": {},
          "execution_count": 324
        }
      ]
    },
    {
      "cell_type": "code",
      "source": [
        "score4=f1_score(Y_test, Y_pred4)# la précision\n",
        "score4"
      ],
      "metadata": {
        "colab": {
          "base_uri": "https://localhost:8080/"
        },
        "id": "uvFv8e7QtNyP",
        "outputId": "b3ccef44-7955-41e8-e7e7-1d980c1ef05a"
      },
      "execution_count": null,
      "outputs": [
        {
          "output_type": "execute_result",
          "data": {
            "text/plain": [
              "0.9704142011834319"
            ]
          },
          "metadata": {},
          "execution_count": 325
        }
      ]
    },
    {
      "cell_type": "code",
      "source": [
        "#Models Comparison\n",
        "models = pd.DataFrame({\n",
        "    'Model' : ['RMSprop', 'adam', 'adagrad', 'SGD'],\n",
        "    'Score' : [score1, score2, score3, score4]\n",
        "})\n",
        "\n",
        "\n",
        "models.sort_values(by = 'Score', ascending = False)"
      ],
      "metadata": {
        "colab": {
          "base_uri": "https://localhost:8080/",
          "height": 175
        },
        "id": "ki82UmhduGxp",
        "outputId": "182169b1-e535-45e8-f380-ea6830a6ba07"
      },
      "execution_count": null,
      "outputs": [
        {
          "output_type": "execute_result",
          "data": {
            "text/plain": [
              "     Model     Score\n",
              "3      SGD  0.970414\n",
              "1     adam  0.970060\n",
              "2  adagrad  0.963855\n",
              "0  RMSprop  0.791367"
            ],
            "text/html": [
              "\n",
              "  <div id=\"df-491dd632-81ce-4e24-b311-7bc1b098de6d\">\n",
              "    <div class=\"colab-df-container\">\n",
              "      <div>\n",
              "<style scoped>\n",
              "    .dataframe tbody tr th:only-of-type {\n",
              "        vertical-align: middle;\n",
              "    }\n",
              "\n",
              "    .dataframe tbody tr th {\n",
              "        vertical-align: top;\n",
              "    }\n",
              "\n",
              "    .dataframe thead th {\n",
              "        text-align: right;\n",
              "    }\n",
              "</style>\n",
              "<table border=\"1\" class=\"dataframe\">\n",
              "  <thead>\n",
              "    <tr style=\"text-align: right;\">\n",
              "      <th></th>\n",
              "      <th>Model</th>\n",
              "      <th>Score</th>\n",
              "    </tr>\n",
              "  </thead>\n",
              "  <tbody>\n",
              "    <tr>\n",
              "      <th>3</th>\n",
              "      <td>SGD</td>\n",
              "      <td>0.970414</td>\n",
              "    </tr>\n",
              "    <tr>\n",
              "      <th>1</th>\n",
              "      <td>adam</td>\n",
              "      <td>0.970060</td>\n",
              "    </tr>\n",
              "    <tr>\n",
              "      <th>2</th>\n",
              "      <td>adagrad</td>\n",
              "      <td>0.963855</td>\n",
              "    </tr>\n",
              "    <tr>\n",
              "      <th>0</th>\n",
              "      <td>RMSprop</td>\n",
              "      <td>0.791367</td>\n",
              "    </tr>\n",
              "  </tbody>\n",
              "</table>\n",
              "</div>\n",
              "      <button class=\"colab-df-convert\" onclick=\"convertToInteractive('df-491dd632-81ce-4e24-b311-7bc1b098de6d')\"\n",
              "              title=\"Convert this dataframe to an interactive table.\"\n",
              "              style=\"display:none;\">\n",
              "        \n",
              "  <svg xmlns=\"http://www.w3.org/2000/svg\" height=\"24px\"viewBox=\"0 0 24 24\"\n",
              "       width=\"24px\">\n",
              "    <path d=\"M0 0h24v24H0V0z\" fill=\"none\"/>\n",
              "    <path d=\"M18.56 5.44l.94 2.06.94-2.06 2.06-.94-2.06-.94-.94-2.06-.94 2.06-2.06.94zm-11 1L8.5 8.5l.94-2.06 2.06-.94-2.06-.94L8.5 2.5l-.94 2.06-2.06.94zm10 10l.94 2.06.94-2.06 2.06-.94-2.06-.94-.94-2.06-.94 2.06-2.06.94z\"/><path d=\"M17.41 7.96l-1.37-1.37c-.4-.4-.92-.59-1.43-.59-.52 0-1.04.2-1.43.59L10.3 9.45l-7.72 7.72c-.78.78-.78 2.05 0 2.83L4 21.41c.39.39.9.59 1.41.59.51 0 1.02-.2 1.41-.59l7.78-7.78 2.81-2.81c.8-.78.8-2.07 0-2.86zM5.41 20L4 18.59l7.72-7.72 1.47 1.35L5.41 20z\"/>\n",
              "  </svg>\n",
              "      </button>\n",
              "      \n",
              "  <style>\n",
              "    .colab-df-container {\n",
              "      display:flex;\n",
              "      flex-wrap:wrap;\n",
              "      gap: 12px;\n",
              "    }\n",
              "\n",
              "    .colab-df-convert {\n",
              "      background-color: #E8F0FE;\n",
              "      border: none;\n",
              "      border-radius: 50%;\n",
              "      cursor: pointer;\n",
              "      display: none;\n",
              "      fill: #1967D2;\n",
              "      height: 32px;\n",
              "      padding: 0 0 0 0;\n",
              "      width: 32px;\n",
              "    }\n",
              "\n",
              "    .colab-df-convert:hover {\n",
              "      background-color: #E2EBFA;\n",
              "      box-shadow: 0px 1px 2px rgba(60, 64, 67, 0.3), 0px 1px 3px 1px rgba(60, 64, 67, 0.15);\n",
              "      fill: #174EA6;\n",
              "    }\n",
              "\n",
              "    [theme=dark] .colab-df-convert {\n",
              "      background-color: #3B4455;\n",
              "      fill: #D2E3FC;\n",
              "    }\n",
              "\n",
              "    [theme=dark] .colab-df-convert:hover {\n",
              "      background-color: #434B5C;\n",
              "      box-shadow: 0px 1px 3px 1px rgba(0, 0, 0, 0.15);\n",
              "      filter: drop-shadow(0px 1px 2px rgba(0, 0, 0, 0.3));\n",
              "      fill: #FFFFFF;\n",
              "    }\n",
              "  </style>\n",
              "\n",
              "      <script>\n",
              "        const buttonEl =\n",
              "          document.querySelector('#df-491dd632-81ce-4e24-b311-7bc1b098de6d button.colab-df-convert');\n",
              "        buttonEl.style.display =\n",
              "          google.colab.kernel.accessAllowed ? 'block' : 'none';\n",
              "\n",
              "        async function convertToInteractive(key) {\n",
              "          const element = document.querySelector('#df-491dd632-81ce-4e24-b311-7bc1b098de6d');\n",
              "          const dataTable =\n",
              "            await google.colab.kernel.invokeFunction('convertToInteractive',\n",
              "                                                     [key], {});\n",
              "          if (!dataTable) return;\n",
              "\n",
              "          const docLinkHtml = 'Like what you see? Visit the ' +\n",
              "            '<a target=\"_blank\" href=https://colab.research.google.com/notebooks/data_table.ipynb>data table notebook</a>'\n",
              "            + ' to learn more about interactive tables.';\n",
              "          element.innerHTML = '';\n",
              "          dataTable['output_type'] = 'display_data';\n",
              "          await google.colab.output.renderOutput(dataTable, element);\n",
              "          const docLink = document.createElement('div');\n",
              "          docLink.innerHTML = docLinkHtml;\n",
              "          element.appendChild(docLink);\n",
              "        }\n",
              "      </script>\n",
              "    </div>\n",
              "  </div>\n",
              "  "
            ]
          },
          "metadata": {},
          "execution_count": 326
        }
      ]
    },
    {
      "cell_type": "code",
      "source": [
        "import plotly.express as px\n",
        "px.bar(data_frame = models, x = 'Score', y = 'Model', color = 'Score', template = 'plotly_dark', \n",
        "       title = 'Models Comparison')"
      ],
      "metadata": {
        "colab": {
          "base_uri": "https://localhost:8080/",
          "height": 542
        },
        "id": "FlNtpU720ckh",
        "outputId": "187545e3-4178-4330-cc48-95b7d2c59ae2"
      },
      "execution_count": null,
      "outputs": [
        {
          "output_type": "display_data",
          "data": {
            "text/html": [
              "<html>\n",
              "<head><meta charset=\"utf-8\" /></head>\n",
              "<body>\n",
              "    <div>            <script src=\"https://cdnjs.cloudflare.com/ajax/libs/mathjax/2.7.5/MathJax.js?config=TeX-AMS-MML_SVG\"></script><script type=\"text/javascript\">if (window.MathJax) {MathJax.Hub.Config({SVG: {font: \"STIX-Web\"}});}</script>                <script type=\"text/javascript\">window.PlotlyConfig = {MathJaxConfig: 'local'};</script>\n",
              "        <script src=\"https://cdn.plot.ly/plotly-2.8.3.min.js\"></script>                <div id=\"a8347e9c-70aa-4190-9f72-ba75dbdb77a1\" class=\"plotly-graph-div\" style=\"height:525px; width:100%;\"></div>            <script type=\"text/javascript\">                                    window.PLOTLYENV=window.PLOTLYENV || {};                                    if (document.getElementById(\"a8347e9c-70aa-4190-9f72-ba75dbdb77a1\")) {                    Plotly.newPlot(                        \"a8347e9c-70aa-4190-9f72-ba75dbdb77a1\",                        [{\"alignmentgroup\":\"True\",\"hovertemplate\":\"Score=%{marker.color}<br>Model=%{y}<extra></extra>\",\"legendgroup\":\"\",\"marker\":{\"color\":[0.7913669064748202,0.970059880239521,0.963855421686747,0.9704142011834319],\"coloraxis\":\"coloraxis\",\"pattern\":{\"shape\":\"\"}},\"name\":\"\",\"offsetgroup\":\"\",\"orientation\":\"h\",\"showlegend\":false,\"textposition\":\"auto\",\"x\":[0.7913669064748202,0.970059880239521,0.963855421686747,0.9704142011834319],\"xaxis\":\"x\",\"y\":[\"RMSprop\",\"adam\",\"adagrad\",\"SGD\"],\"yaxis\":\"y\",\"type\":\"bar\"}],                        {\"template\":{\"data\":{\"barpolar\":[{\"marker\":{\"line\":{\"color\":\"rgb(17,17,17)\",\"width\":0.5},\"pattern\":{\"fillmode\":\"overlay\",\"size\":10,\"solidity\":0.2}},\"type\":\"barpolar\"}],\"bar\":[{\"error_x\":{\"color\":\"#f2f5fa\"},\"error_y\":{\"color\":\"#f2f5fa\"},\"marker\":{\"line\":{\"color\":\"rgb(17,17,17)\",\"width\":0.5},\"pattern\":{\"fillmode\":\"overlay\",\"size\":10,\"solidity\":0.2}},\"type\":\"bar\"}],\"carpet\":[{\"aaxis\":{\"endlinecolor\":\"#A2B1C6\",\"gridcolor\":\"#506784\",\"linecolor\":\"#506784\",\"minorgridcolor\":\"#506784\",\"startlinecolor\":\"#A2B1C6\"},\"baxis\":{\"endlinecolor\":\"#A2B1C6\",\"gridcolor\":\"#506784\",\"linecolor\":\"#506784\",\"minorgridcolor\":\"#506784\",\"startlinecolor\":\"#A2B1C6\"},\"type\":\"carpet\"}],\"choropleth\":[{\"colorbar\":{\"outlinewidth\":0,\"ticks\":\"\"},\"type\":\"choropleth\"}],\"contourcarpet\":[{\"colorbar\":{\"outlinewidth\":0,\"ticks\":\"\"},\"type\":\"contourcarpet\"}],\"contour\":[{\"colorbar\":{\"outlinewidth\":0,\"ticks\":\"\"},\"colorscale\":[[0.0,\"#0d0887\"],[0.1111111111111111,\"#46039f\"],[0.2222222222222222,\"#7201a8\"],[0.3333333333333333,\"#9c179e\"],[0.4444444444444444,\"#bd3786\"],[0.5555555555555556,\"#d8576b\"],[0.6666666666666666,\"#ed7953\"],[0.7777777777777778,\"#fb9f3a\"],[0.8888888888888888,\"#fdca26\"],[1.0,\"#f0f921\"]],\"type\":\"contour\"}],\"heatmapgl\":[{\"colorbar\":{\"outlinewidth\":0,\"ticks\":\"\"},\"colorscale\":[[0.0,\"#0d0887\"],[0.1111111111111111,\"#46039f\"],[0.2222222222222222,\"#7201a8\"],[0.3333333333333333,\"#9c179e\"],[0.4444444444444444,\"#bd3786\"],[0.5555555555555556,\"#d8576b\"],[0.6666666666666666,\"#ed7953\"],[0.7777777777777778,\"#fb9f3a\"],[0.8888888888888888,\"#fdca26\"],[1.0,\"#f0f921\"]],\"type\":\"heatmapgl\"}],\"heatmap\":[{\"colorbar\":{\"outlinewidth\":0,\"ticks\":\"\"},\"colorscale\":[[0.0,\"#0d0887\"],[0.1111111111111111,\"#46039f\"],[0.2222222222222222,\"#7201a8\"],[0.3333333333333333,\"#9c179e\"],[0.4444444444444444,\"#bd3786\"],[0.5555555555555556,\"#d8576b\"],[0.6666666666666666,\"#ed7953\"],[0.7777777777777778,\"#fb9f3a\"],[0.8888888888888888,\"#fdca26\"],[1.0,\"#f0f921\"]],\"type\":\"heatmap\"}],\"histogram2dcontour\":[{\"colorbar\":{\"outlinewidth\":0,\"ticks\":\"\"},\"colorscale\":[[0.0,\"#0d0887\"],[0.1111111111111111,\"#46039f\"],[0.2222222222222222,\"#7201a8\"],[0.3333333333333333,\"#9c179e\"],[0.4444444444444444,\"#bd3786\"],[0.5555555555555556,\"#d8576b\"],[0.6666666666666666,\"#ed7953\"],[0.7777777777777778,\"#fb9f3a\"],[0.8888888888888888,\"#fdca26\"],[1.0,\"#f0f921\"]],\"type\":\"histogram2dcontour\"}],\"histogram2d\":[{\"colorbar\":{\"outlinewidth\":0,\"ticks\":\"\"},\"colorscale\":[[0.0,\"#0d0887\"],[0.1111111111111111,\"#46039f\"],[0.2222222222222222,\"#7201a8\"],[0.3333333333333333,\"#9c179e\"],[0.4444444444444444,\"#bd3786\"],[0.5555555555555556,\"#d8576b\"],[0.6666666666666666,\"#ed7953\"],[0.7777777777777778,\"#fb9f3a\"],[0.8888888888888888,\"#fdca26\"],[1.0,\"#f0f921\"]],\"type\":\"histogram2d\"}],\"histogram\":[{\"marker\":{\"pattern\":{\"fillmode\":\"overlay\",\"size\":10,\"solidity\":0.2}},\"type\":\"histogram\"}],\"mesh3d\":[{\"colorbar\":{\"outlinewidth\":0,\"ticks\":\"\"},\"type\":\"mesh3d\"}],\"parcoords\":[{\"line\":{\"colorbar\":{\"outlinewidth\":0,\"ticks\":\"\"}},\"type\":\"parcoords\"}],\"pie\":[{\"automargin\":true,\"type\":\"pie\"}],\"scatter3d\":[{\"line\":{\"colorbar\":{\"outlinewidth\":0,\"ticks\":\"\"}},\"marker\":{\"colorbar\":{\"outlinewidth\":0,\"ticks\":\"\"}},\"type\":\"scatter3d\"}],\"scattercarpet\":[{\"marker\":{\"colorbar\":{\"outlinewidth\":0,\"ticks\":\"\"}},\"type\":\"scattercarpet\"}],\"scattergeo\":[{\"marker\":{\"colorbar\":{\"outlinewidth\":0,\"ticks\":\"\"}},\"type\":\"scattergeo\"}],\"scattergl\":[{\"marker\":{\"line\":{\"color\":\"#283442\"}},\"type\":\"scattergl\"}],\"scattermapbox\":[{\"marker\":{\"colorbar\":{\"outlinewidth\":0,\"ticks\":\"\"}},\"type\":\"scattermapbox\"}],\"scatterpolargl\":[{\"marker\":{\"colorbar\":{\"outlinewidth\":0,\"ticks\":\"\"}},\"type\":\"scatterpolargl\"}],\"scatterpolar\":[{\"marker\":{\"colorbar\":{\"outlinewidth\":0,\"ticks\":\"\"}},\"type\":\"scatterpolar\"}],\"scatter\":[{\"marker\":{\"line\":{\"color\":\"#283442\"}},\"type\":\"scatter\"}],\"scatterternary\":[{\"marker\":{\"colorbar\":{\"outlinewidth\":0,\"ticks\":\"\"}},\"type\":\"scatterternary\"}],\"surface\":[{\"colorbar\":{\"outlinewidth\":0,\"ticks\":\"\"},\"colorscale\":[[0.0,\"#0d0887\"],[0.1111111111111111,\"#46039f\"],[0.2222222222222222,\"#7201a8\"],[0.3333333333333333,\"#9c179e\"],[0.4444444444444444,\"#bd3786\"],[0.5555555555555556,\"#d8576b\"],[0.6666666666666666,\"#ed7953\"],[0.7777777777777778,\"#fb9f3a\"],[0.8888888888888888,\"#fdca26\"],[1.0,\"#f0f921\"]],\"type\":\"surface\"}],\"table\":[{\"cells\":{\"fill\":{\"color\":\"#506784\"},\"line\":{\"color\":\"rgb(17,17,17)\"}},\"header\":{\"fill\":{\"color\":\"#2a3f5f\"},\"line\":{\"color\":\"rgb(17,17,17)\"}},\"type\":\"table\"}]},\"layout\":{\"annotationdefaults\":{\"arrowcolor\":\"#f2f5fa\",\"arrowhead\":0,\"arrowwidth\":1},\"autotypenumbers\":\"strict\",\"coloraxis\":{\"colorbar\":{\"outlinewidth\":0,\"ticks\":\"\"}},\"colorscale\":{\"diverging\":[[0,\"#8e0152\"],[0.1,\"#c51b7d\"],[0.2,\"#de77ae\"],[0.3,\"#f1b6da\"],[0.4,\"#fde0ef\"],[0.5,\"#f7f7f7\"],[0.6,\"#e6f5d0\"],[0.7,\"#b8e186\"],[0.8,\"#7fbc41\"],[0.9,\"#4d9221\"],[1,\"#276419\"]],\"sequential\":[[0.0,\"#0d0887\"],[0.1111111111111111,\"#46039f\"],[0.2222222222222222,\"#7201a8\"],[0.3333333333333333,\"#9c179e\"],[0.4444444444444444,\"#bd3786\"],[0.5555555555555556,\"#d8576b\"],[0.6666666666666666,\"#ed7953\"],[0.7777777777777778,\"#fb9f3a\"],[0.8888888888888888,\"#fdca26\"],[1.0,\"#f0f921\"]],\"sequentialminus\":[[0.0,\"#0d0887\"],[0.1111111111111111,\"#46039f\"],[0.2222222222222222,\"#7201a8\"],[0.3333333333333333,\"#9c179e\"],[0.4444444444444444,\"#bd3786\"],[0.5555555555555556,\"#d8576b\"],[0.6666666666666666,\"#ed7953\"],[0.7777777777777778,\"#fb9f3a\"],[0.8888888888888888,\"#fdca26\"],[1.0,\"#f0f921\"]]},\"colorway\":[\"#636efa\",\"#EF553B\",\"#00cc96\",\"#ab63fa\",\"#FFA15A\",\"#19d3f3\",\"#FF6692\",\"#B6E880\",\"#FF97FF\",\"#FECB52\"],\"font\":{\"color\":\"#f2f5fa\"},\"geo\":{\"bgcolor\":\"rgb(17,17,17)\",\"lakecolor\":\"rgb(17,17,17)\",\"landcolor\":\"rgb(17,17,17)\",\"showlakes\":true,\"showland\":true,\"subunitcolor\":\"#506784\"},\"hoverlabel\":{\"align\":\"left\"},\"hovermode\":\"closest\",\"mapbox\":{\"style\":\"dark\"},\"paper_bgcolor\":\"rgb(17,17,17)\",\"plot_bgcolor\":\"rgb(17,17,17)\",\"polar\":{\"angularaxis\":{\"gridcolor\":\"#506784\",\"linecolor\":\"#506784\",\"ticks\":\"\"},\"bgcolor\":\"rgb(17,17,17)\",\"radialaxis\":{\"gridcolor\":\"#506784\",\"linecolor\":\"#506784\",\"ticks\":\"\"}},\"scene\":{\"xaxis\":{\"backgroundcolor\":\"rgb(17,17,17)\",\"gridcolor\":\"#506784\",\"gridwidth\":2,\"linecolor\":\"#506784\",\"showbackground\":true,\"ticks\":\"\",\"zerolinecolor\":\"#C8D4E3\"},\"yaxis\":{\"backgroundcolor\":\"rgb(17,17,17)\",\"gridcolor\":\"#506784\",\"gridwidth\":2,\"linecolor\":\"#506784\",\"showbackground\":true,\"ticks\":\"\",\"zerolinecolor\":\"#C8D4E3\"},\"zaxis\":{\"backgroundcolor\":\"rgb(17,17,17)\",\"gridcolor\":\"#506784\",\"gridwidth\":2,\"linecolor\":\"#506784\",\"showbackground\":true,\"ticks\":\"\",\"zerolinecolor\":\"#C8D4E3\"}},\"shapedefaults\":{\"line\":{\"color\":\"#f2f5fa\"}},\"sliderdefaults\":{\"bgcolor\":\"#C8D4E3\",\"bordercolor\":\"rgb(17,17,17)\",\"borderwidth\":1,\"tickwidth\":0},\"ternary\":{\"aaxis\":{\"gridcolor\":\"#506784\",\"linecolor\":\"#506784\",\"ticks\":\"\"},\"baxis\":{\"gridcolor\":\"#506784\",\"linecolor\":\"#506784\",\"ticks\":\"\"},\"bgcolor\":\"rgb(17,17,17)\",\"caxis\":{\"gridcolor\":\"#506784\",\"linecolor\":\"#506784\",\"ticks\":\"\"}},\"title\":{\"x\":0.05},\"updatemenudefaults\":{\"bgcolor\":\"#506784\",\"borderwidth\":0},\"xaxis\":{\"automargin\":true,\"gridcolor\":\"#283442\",\"linecolor\":\"#506784\",\"ticks\":\"\",\"title\":{\"standoff\":15},\"zerolinecolor\":\"#283442\",\"zerolinewidth\":2},\"yaxis\":{\"automargin\":true,\"gridcolor\":\"#283442\",\"linecolor\":\"#506784\",\"ticks\":\"\",\"title\":{\"standoff\":15},\"zerolinecolor\":\"#283442\",\"zerolinewidth\":2}}},\"xaxis\":{\"anchor\":\"y\",\"domain\":[0.0,1.0],\"title\":{\"text\":\"Score\"}},\"yaxis\":{\"anchor\":\"x\",\"domain\":[0.0,1.0],\"title\":{\"text\":\"Model\"}},\"coloraxis\":{\"colorbar\":{\"title\":{\"text\":\"Score\"}},\"colorscale\":[[0.0,\"#0d0887\"],[0.1111111111111111,\"#46039f\"],[0.2222222222222222,\"#7201a8\"],[0.3333333333333333,\"#9c179e\"],[0.4444444444444444,\"#bd3786\"],[0.5555555555555556,\"#d8576b\"],[0.6666666666666666,\"#ed7953\"],[0.7777777777777778,\"#fb9f3a\"],[0.8888888888888888,\"#fdca26\"],[1.0,\"#f0f921\"]]},\"legend\":{\"tracegroupgap\":0},\"title\":{\"text\":\"Models Comparison\"},\"barmode\":\"relative\"},                        {\"responsive\": true}                    ).then(function(){\n",
              "                            \n",
              "var gd = document.getElementById('a8347e9c-70aa-4190-9f72-ba75dbdb77a1');\n",
              "var x = new MutationObserver(function (mutations, observer) {{\n",
              "        var display = window.getComputedStyle(gd).display;\n",
              "        if (!display || display === 'none') {{\n",
              "            console.log([gd, 'removed!']);\n",
              "            Plotly.purge(gd);\n",
              "            observer.disconnect();\n",
              "        }}\n",
              "}});\n",
              "\n",
              "// Listen for the removal of the full notebook cells\n",
              "var notebookContainer = gd.closest('#notebook-container');\n",
              "if (notebookContainer) {{\n",
              "    x.observe(notebookContainer, {childList: true});\n",
              "}}\n",
              "\n",
              "// Listen for the clearing of the current output cell\n",
              "var outputEl = gd.closest('.output');\n",
              "if (outputEl) {{\n",
              "    x.observe(outputEl, {childList: true});\n",
              "}}\n",
              "\n",
              "                        })                };                            </script>        </div>\n",
              "</body>\n",
              "</html>"
            ]
          },
          "metadata": {}
        }
      ]
    },
    {
      "cell_type": "markdown",
      "source": [
        "**On remarque que la précision (f1_score) est plus élévée pour le model avec adagrad optimizer, suivie par celles des model avec adam et SGD réspectivement, et enfin la précision moindre est donnée par le model avec RMSprop optimizer.**"
      ],
      "metadata": {
        "id": "17Hx6AXj0mr6"
      }
    },
    {
      "cell_type": "markdown",
      "source": [
        "**Displaying images with Predicted & expected labels (Happy-sad)**"
      ],
      "metadata": {
        "id": "OI4ff7BgNw86"
      }
    },
    {
      "cell_type": "code",
      "source": [
        "from google.colab import drive\n",
        "drive.mount('/content/drive')"
      ],
      "metadata": {
        "colab": {
          "base_uri": "https://localhost:8080/"
        },
        "id": "QrVK3AgYOpxR",
        "outputId": "2dc1f71a-6b07-4e43-d62c-c9a9ebf51482"
      },
      "execution_count": null,
      "outputs": [
        {
          "output_type": "stream",
          "name": "stdout",
          "text": [
            "Drive already mounted at /content/drive; to attempt to forcibly remount, call drive.mount(\"/content/drive\", force_remount=True).\n"
          ]
        }
      ]
    },
    {
      "cell_type": "code",
      "source": [
        "from keras.preprocessing.image import ImageDataGenerator # il classifie les images selon le nombre des sous dossiers\n",
        "test_path = '/content/drive/MyDrive/faces' # ici on écrit le dossier parent pas le sous dossier\n",
        "test_gen = ImageDataGenerator(brightness_range=[0.9,1.0])# vertical_flip=True, rotation_range=120, zoom_range=[0.3, 0.7],brightness_range=[0.9,1.8]# pour brightness la référence c'est 1, <1 il augmente, >1 il diminue et agit seulement pour les images ayant cette valeur à l'interieur de l'intervalle,vertical_flip:data augmentation, il ne change pas le nombre d'image car dans le cas contraire au moment du fiting il peut prendre dans un seul batch la même image sous différent angle ce qui provoque un overfiting, à chaque epoch il choisit des images au hasard (avec remise) pour leur faire flip\n",
        "test  = test_gen.flow_from_directory(directory = test_path,class_mode = 'categorical',batch_size=20,target_size = (200, 200))"
      ],
      "metadata": {
        "colab": {
          "base_uri": "https://localhost:8080/"
        },
        "id": "2abDtWIOOtli",
        "outputId": "e088b0b0-9c92-4ac6-cded-2b1fba80932f"
      },
      "execution_count": null,
      "outputs": [
        {
          "output_type": "stream",
          "name": "stdout",
          "text": [
            "Found 11 images belonging to 2 classes.\n"
          ]
        }
      ]
    },
    {
      "cell_type": "code",
      "source": [
        "test_images,test_labels = test.next()"
      ],
      "metadata": {
        "colab": {
          "base_uri": "https://localhost:8080/"
        },
        "id": "ayKV0F5HOvC-",
        "outputId": "19253cf3-2490-4358-c69d-c9adc3a7709d"
      },
      "execution_count": null,
      "outputs": [
        {
          "output_type": "stream",
          "name": "stderr",
          "text": [
            "/usr/local/lib/python3.7/dist-packages/PIL/Image.py:960: UserWarning:\n",
            "\n",
            "Palette images with Transparency expressed in bytes should be converted to RGBA images\n",
            "\n"
          ]
        }
      ]
    },
    {
      "cell_type": "code",
      "source": [
        "test_labels"
      ],
      "metadata": {
        "colab": {
          "base_uri": "https://localhost:8080/"
        },
        "id": "boJUI-qOO2Xu",
        "outputId": "a37d0b02-573e-4f1f-81b1-297f511aa172"
      },
      "execution_count": null,
      "outputs": [
        {
          "output_type": "execute_result",
          "data": {
            "text/plain": [
              "array([[0., 1.],\n",
              "       [1., 0.],\n",
              "       [0., 1.],\n",
              "       [1., 0.],\n",
              "       [1., 0.],\n",
              "       [0., 1.],\n",
              "       [1., 0.],\n",
              "       [1., 0.],\n",
              "       [0., 1.],\n",
              "       [0., 1.],\n",
              "       [1., 0.]], dtype=float32)"
            ]
          },
          "metadata": {},
          "execution_count": 462
        }
      ]
    },
    {
      "cell_type": "code",
      "source": [
        "text_labels = ['happy', 'sad']# j'ai utilisé deux sous-dossier de faces que j'ai només: \"happy\" et \"sad\", les images je les ai téléchargées d'internet\n",
        "import matplotlib.pyplot as plt\n",
        "test_labels_vec=np.argmax(test_labels,axis=1)\n",
        "\n",
        "plt.figure()\n",
        "random_index = np.random.randint(0, 10) # 11 images\n",
        "#plt.imshow(train_labels_vec[random_index]\n",
        "#plt.colorbar()\n",
        "label = test_labels_vec[random_index]\n",
        "text_description = text_labels[label]\n",
        "plt.title('True Class: {} (\"{}\")'.format(label, text_description))\n",
        "plt.imshow(test_images[random_index,:,:,:].astype(\"uint8\"))"
      ],
      "metadata": {
        "colab": {
          "base_uri": "https://localhost:8080/",
          "height": 298
        },
        "id": "NINHkzlpO3Xi",
        "outputId": "1fef0462-cc1d-44d2-97f9-02525a588fe7"
      },
      "execution_count": null,
      "outputs": [
        {
          "output_type": "execute_result",
          "data": {
            "text/plain": [
              "<matplotlib.image.AxesImage at 0x7fa87d082050>"
            ]
          },
          "metadata": {},
          "execution_count": 468
        },
        {
          "output_type": "display_data",
          "data": {
            "text/plain": [
              "<Figure size 432x288 with 1 Axes>"
            ],
            "image/png": "[encoded data removed]"
          },
          "metadata": {
            "needs_background": "light"
          }
        }
      ]
    },
    {
      "cell_type": "code",
      "source": [
        "from skimage.transform import resize\n",
        "t=resize(test_images[random_index,:,:,:],(1,64,64,3))"
      ],
      "metadata": {
        "id": "S1WNoayn6R4R"
      },
      "execution_count": null,
      "outputs": []
    },
    {
      "cell_type": "code",
      "source": [
        "label"
      ],
      "metadata": {
        "colab": {
          "base_uri": "https://localhost:8080/"
        },
        "id": "uofns4QLTuUb",
        "outputId": "bd045648-623e-4117-900f-06c92bd6ea27"
      },
      "execution_count": null,
      "outputs": [
        {
          "output_type": "execute_result",
          "data": {
            "text/plain": [
              "1"
            ]
          },
          "metadata": {},
          "execution_count": 470
        }
      ]
    },
    {
      "cell_type": "code",
      "source": [
        "t.shape"
      ],
      "metadata": {
        "colab": {
          "base_uri": "https://localhost:8080/"
        },
        "id": "4RL0cmrDRMza",
        "outputId": "343c87f3-054d-4aab-8da3-41f97dbeda7d"
      },
      "execution_count": null,
      "outputs": [
        {
          "output_type": "execute_result",
          "data": {
            "text/plain": [
              "(1, 64, 64, 3)"
            ]
          },
          "metadata": {},
          "execution_count": 471
        }
      ]
    },
    {
      "cell_type": "code",
      "source": [
        "text_labels = ['happy', 'sad']\n",
        "z=model3.predict(t)\n",
        "\n",
        "from sklearn.preprocessing import Binarizer\n",
        "binarizer=Binarizer(threshold=0.5)\n",
        "bb=binarizer.fit_transform(z)\n",
        "z=bb\n",
        "\n",
        "pred_label=[\"happy\" if z==0 else \"sad\" ]\n",
        "\n",
        "print(\"predicted :\",pred_label)\n",
        "print(\"actual :\",text_description)"
      ],
      "metadata": {
        "colab": {
          "base_uri": "https://localhost:8080/"
        },
        "id": "6cO096Mz4dKT",
        "outputId": "b9ab6686-9ad4-44c5-d828-9f0a6d243dcc"
      },
      "execution_count": null,
      "outputs": [
        {
          "output_type": "stream",
          "name": "stdout",
          "text": [
            "predicted : ['happy']\n",
            "actual : sad\n"
          ]
        }
      ]
    }
  ]
}